{
  "cells": [
    {
      "cell_type": "markdown",
      "id": "eeeffc6fde657203",
      "metadata": {
        "id": "eeeffc6fde657203"
      },
      "source": [
        "# Import csv file"
      ]
    },
    {
      "cell_type": "code",
      "execution_count": 2,
      "id": "initial_id",
      "metadata": {
        "ExecuteTime": {
          "end_time": "2024-09-13T16:36:03.429864Z",
          "start_time": "2024-09-13T16:36:03.356741Z"
        },
        "colab": {
          "base_uri": "https://localhost:8080/"
        },
        "id": "initial_id",
        "outputId": "c908beb6-f730-4c82-c5d9-a9d8a0a28f21"
      },
      "outputs": [
        {
          "name": "stdout",
          "output_type": "stream",
          "text": [
            "                 pH   Temprature        Taste         Odor         Fat     Turbidity       Colour Grade\n",
            "count   1059.000000  1059.000000  1059.000000  1059.000000  1059.000000  1059.000000  1059.000000  1059\n",
            "unique          NaN          NaN          NaN          NaN          NaN          NaN          NaN     3\n",
            "top             NaN          NaN          NaN          NaN          NaN          NaN          NaN   low\n",
            "freq            NaN          NaN          NaN          NaN          NaN          NaN          NaN   429\n",
            "mean       6.630123    44.226629     0.546742     0.432483     0.671388     0.491029   251.840415   NaN\n",
            "std        1.399679    10.098364     0.498046     0.495655     0.469930     0.500156     4.307424   NaN\n",
            "min        3.000000    34.000000     0.000000     0.000000     0.000000     0.000000   240.000000   NaN\n",
            "25%        6.500000    38.000000     0.000000     0.000000     0.000000     0.000000   250.000000   NaN\n",
            "50%        6.700000    41.000000     1.000000     0.000000     1.000000     0.000000   255.000000   NaN\n",
            "75%        6.800000    45.000000     1.000000     1.000000     1.000000     1.000000   255.000000   NaN\n",
            "max        9.500000    90.000000     1.000000     1.000000     1.000000     1.000000   255.000000   NaN\n"
          ]
        }
      ],
      "source": [
        "import pandas as pd\n",
        "\n",
        "df = pd.read_csv('data/csv/data_milknew.csv')\n",
        "\n",
        "print(df.describe(include='all').to_string())\n",
        "\n",
        "#ไม่มีข้อมูลขาดหาย"
      ]
    },
    {
      "cell_type": "code",
      "execution_count": 18,
      "id": "b38e89c7",
      "metadata": {
        "ExecuteTime": {
          "end_time": "2024-09-13T16:36:04.737253Z",
          "start_time": "2024-09-13T16:36:04.728395Z"
        },
        "colab": {
          "base_uri": "https://localhost:8080/"
        },
        "id": "b38e89c7",
        "outputId": "87d1e384-f0f9-4e11-e4bf-b8bda5ef4087"
      },
      "outputs": [
        {
          "name": "stdout",
          "output_type": "stream",
          "text": [
            "    pH  Temprature  Taste  Odor  Fat   Turbidity  Colour  Grade\n",
            "0  6.6          35      1     0     1          0     254      0\n",
            "1  6.6          36      0     1     0          1     253      0\n",
            "2  8.5          70      1     1     1          1     246      1\n",
            "3  9.5          34      1     1     0          1     255      1\n",
            "4  6.6          37      0     0     0          0     255      2\n"
          ]
        }
      ],
      "source": [
        "print(df.head().to_string())\n",
        "\n",
        "#คอลัมน์ Grade ยังเป็นตัวอักษร"
      ]
    },
    {
      "cell_type": "markdown",
      "id": "473a3960ac458819",
      "metadata": {
        "id": "473a3960ac458819"
      },
      "source": [
        "# Data Preprocessing"
      ]
    },
    {
      "cell_type": "markdown",
      "id": "_w-6G-R5bS9j",
      "metadata": {
        "id": "_w-6G-R5bS9j"
      },
      "source": [
        "## Label encoder"
      ]
    },
    {
      "cell_type": "code",
      "execution_count": 19,
      "id": "8bd0055777c12104",
      "metadata": {
        "ExecuteTime": {
          "end_time": "2024-09-13T16:36:06.936967Z",
          "start_time": "2024-09-13T16:36:06.892394Z"
        },
        "colab": {
          "base_uri": "https://localhost:8080/"
        },
        "id": "8bd0055777c12104",
        "outputId": "c1edb645-0ca3-4a22-a7cb-07430134d254"
      },
      "outputs": [
        {
          "name": "stdout",
          "output_type": "stream",
          "text": [
            "Grade [high = 0 / low = 1 / medium = 2] :\n",
            "{'Grade': {np.int64(0): np.int64(0), np.int64(1): np.int64(1), np.int64(2): np.int64(2)}}\n",
            "  \n",
            "    pH  Temprature  Taste  Odor  Fat   Turbidity  Colour  Grade\n",
            "0  6.6          35      1     0     1          0     254      0\n",
            "1  6.6          36      0     1     0          1     253      0\n",
            "2  8.5          70      1     1     1          1     246      1\n",
            "3  9.5          34      1     1     0          1     255      1\n",
            "4  6.6          37      0     0     0          0     255      2\n"
          ]
        }
      ],
      "source": [
        "from sklearn.preprocessing import LabelEncoder\n",
        "label_encoder = LabelEncoder()\n",
        "\n",
        "print('Grade [high = 0 / low = 1 / medium = 2] :')\n",
        "df[\"Grade\"] = label_encoder.fit_transform(df[\"Grade\"])\n",
        "mapping = dict(zip(label_encoder.classes_, label_encoder.transform(label_encoder.classes_)))\n",
        "mapping = {'Grade': mapping}\n",
        "print(mapping)\n",
        "\n",
        "print(\"  \")\n",
        "\n",
        "print(df.head().to_string())\n",
        "\n",
        "#เปลี่ยนจากตัวอักษร object เป็นข้อมูลตัวเลขเพื่อจะนำไปเทรนโมเดล"
      ]
    },
    {
      "cell_type": "markdown",
      "id": "YmfBnqKWbX0Z",
      "metadata": {
        "id": "YmfBnqKWbX0Z"
      },
      "source": [
        "## Check balance dataset"
      ]
    },
    {
      "cell_type": "code",
      "execution_count": 20,
      "id": "e5e8f8f6",
      "metadata": {
        "ExecuteTime": {
          "end_time": "2024-09-13T16:36:10.976885Z",
          "start_time": "2024-09-13T16:36:10.746007Z"
        },
        "colab": {
          "base_uri": "https://localhost:8080/",
          "height": 559
        },
        "id": "e5e8f8f6",
        "outputId": "55639e41-92c5-4fee-ff41-530c7d051fc1"
      },
      "outputs": [
        {
          "name": "stdout",
          "output_type": "stream",
          "text": [
            "Grade\n",
            "1    429\n",
            "2    374\n",
            "0    256 \n",
            "\n"
          ]
        },
        {
          "data": {
            "image/png": "[encoded data removed]",
            "text/plain": [
              "<Figure size 640x480 with 1 Axes>"
            ]
          },
          "metadata": {},
          "output_type": "display_data"
        }
      ],
      "source": [
        "print(df['Grade'].value_counts().to_string(), '\\n')\n",
        "\n",
        "import seaborn as sns\n",
        "import matplotlib.pyplot as plt\n",
        "\n",
        "sns.countplot(y='Grade', data=df)\n",
        "plt.xlabel('Grade')\n",
        "plt.ylabel('Count')\n",
        "plt.title('Count of Grade')\n",
        "\n",
        "plt.show()\n",
        "\n",
        "#ทำการเช็คความสมดุลของข้อมูลที่จะเอาไปเทรนโมเดล\n"
      ]
    },
    {
      "cell_type": "markdown",
      "id": "29AGoRCrbebR",
      "metadata": {
        "id": "29AGoRCrbebR"
      },
      "source": [
        "## Resampling Dataset"
      ]
    },
    {
      "cell_type": "code",
      "execution_count": 6,
      "id": "62a9d05c",
      "metadata": {
        "ExecuteTime": {
          "end_time": "2024-09-13T16:36:16.649728Z",
          "start_time": "2024-09-13T16:36:16.635214Z"
        },
        "id": "62a9d05c"
      },
      "outputs": [],
      "source": [
        "from imblearn.over_sampling import RandomOverSampler\n",
        "from sklearn.model_selection import train_test_split\n",
        "\n",
        "X = df.drop('Grade', axis=1)\n",
        "y = df['Grade']\n",
        "\n",
        "X_train, X_test, y_train, y_test = train_test_split(X, y, test_size=0.3, random_state=1)\n",
        "\n",
        "oversampler = RandomOverSampler(sampling_strategy='auto')\n",
        "\n",
        "X_train_balanced, y_train_balanced = oversampler.fit_resample(X_train, y_train)\n",
        "\n",
        "#ทำการ resampling จะสุ่มคัดเลือกและทำซ้ำตัวอย่างจากคลาสที่มีจำนวนตัวอย่างน้อย จนกว่าจำนวนตัวอย่างของคลาสที่มีน้อยจะเท่ากับหรือใกล้เคียงกับจำนวนตัวอย่างในคลาสที่มีจำนวนตัวอย่างมาก"
      ]
    },
    {
      "cell_type": "markdown",
      "id": "UnYEJVGPeIuX",
      "metadata": {
        "id": "UnYEJVGPeIuX"
      },
      "source": [
        "## Check balance dataset (again)"
      ]
    },
    {
      "cell_type": "code",
      "execution_count": 21,
      "id": "0b5bdfd7",
      "metadata": {
        "ExecuteTime": {
          "end_time": "2024-09-13T16:36:19.852171Z",
          "start_time": "2024-09-13T16:36:19.488736Z"
        },
        "colab": {
          "base_uri": "https://localhost:8080/",
          "height": 633
        },
        "id": "0b5bdfd7",
        "outputId": "a05f2cee-287d-42c4-ac2f-3a534274ac2a"
      },
      "outputs": [
        {
          "name": "stdout",
          "output_type": "stream",
          "text": [
            "Distribution of Grades After Resampling:\n",
            "1: 287\n",
            "0: 287\n",
            "2: 287\n"
          ]
        },
        {
          "data": {
            "image/png": "[encoded data removed]",
            "text/plain": [
              "<Figure size 800x600 with 1 Axes>"
            ]
          },
          "metadata": {},
          "output_type": "display_data"
        }
      ],
      "source": [
        "import matplotlib.pyplot as plt\n",
        "import seaborn as sns\n",
        "\n",
        "# นับจำนวนของแต่ละหมวดหมู่ใน y_train_balanced\n",
        "class_counts = y_train_balanced.value_counts()\n",
        "\n",
        "# พิมพ์จำนวนของแต่ละหมวดหมู่\n",
        "print('Distribution of Grades After Resampling:')\n",
        "for grade, count in class_counts.items():\n",
        "    print(f'{grade}: {count}')\n",
        "\n",
        "# สร้าง DataFrame สำหรับการแสดงผล\n",
        "import pandas as pd\n",
        "df_balanced = pd.DataFrame({'Grade': y_train_balanced})\n",
        "\n",
        "# สร้างกราฟแท่ง\n",
        "plt.figure(figsize=(8, 6))\n",
        "sns.countplot(y='Grade', data=df_balanced)\n",
        "plt.xlabel('Grade')\n",
        "plt.ylabel('Count')\n",
        "plt.title('Distribution of Grades After Resampling')\n",
        "plt.show()\n",
        "\n",
        "#เช็คดูข้อมูลอีกรอบว่าสมดุลหรือยัง"
      ]
    },
    {
      "cell_type": "markdown",
      "id": "3C0yvgdPbsDc",
      "metadata": {
        "id": "3C0yvgdPbsDc"
      },
      "source": [
        "# Save .csv (Toprocess)"
      ]
    },
    {
      "cell_type": "code",
      "execution_count": 8,
      "id": "615d41b9cdebd0e3",
      "metadata": {
        "ExecuteTime": {
          "end_time": "2024-09-13T15:56:16.641808Z",
          "start_time": "2024-09-13T15:56:16.595839Z"
        },
        "id": "615d41b9cdebd0e3",
        "outputId": "067b80d8-2929-4749-f905-ed0bfa47dcc1"
      },
      "outputs": [
        {
          "name": "stdout",
          "output_type": "stream",
          "text": [
            "Data saved to 'data_milknew_resampled_scaled_data.csv'\n"
          ]
        }
      ],
      "source": [
        "# สร้าง DataFrame ใหม่จากข้อมูลที่ปรับขนาดแล้ว\n",
        "df_resampled_scaled = pd.DataFrame(X_train_balanced, columns=X.columns)\n",
        "df_resampled_scaled['Grade'] = y_train_balanced.values\n",
        "\n",
        "# บันทึก DataFrame ลงในไฟล์ CSV\n",
        "df_resampled_scaled.to_csv('data/csvToprocess/data_milknew_resampled_scaled_data.csv', index=False)\n",
        "\n",
        "print(\"Data saved to 'data_milknew_resampled_scaled_data.csv'\")"
      ]
    },
    {
      "cell_type": "markdown",
      "id": "bcd69fc4a793cee3",
      "metadata": {
        "id": "bcd69fc4a793cee3"
      },
      "source": [
        "# Model Development  & Hyperparameter Tuning"
      ]
    },
    {
      "cell_type": "code",
      "execution_count": 22,
      "id": "69a5768aaa777d08",
      "metadata": {
        "ExecuteTime": {
          "end_time": "2024-09-13T16:36:28.246432Z",
          "start_time": "2024-09-13T16:36:28.235710Z"
        },
        "id": "69a5768aaa777d08"
      },
      "outputs": [],
      "source": [
        "from sklearn.linear_model import LogisticRegression\n",
        "from sklearn.neighbors import KNeighborsClassifier\n",
        "from sklearn.svm import SVC\n",
        "from sklearn.model_selection import GridSearchCV\n",
        "from sklearn.metrics import classification_report\n",
        "\n",
        "#นำเข้าโมเดลต่างๆ"
      ]
    },
    {
      "cell_type": "markdown",
      "id": "isG2SsS8cgz2",
      "metadata": {
        "id": "isG2SsS8cgz2"
      },
      "source": [
        "## Set param_grid for Search best tuning model"
      ]
    },
    {
      "cell_type": "code",
      "execution_count": 23,
      "id": "fc9da3aabfb0275c",
      "metadata": {
        "ExecuteTime": {
          "end_time": "2024-09-13T16:36:55.539474Z",
          "start_time": "2024-09-13T16:36:30.269541Z"
        },
        "id": "fc9da3aabfb0275c"
      },
      "outputs": [],
      "source": [
        "# Scoring metrics\n",
        "scoring = {\n",
        "    'accuracy': 'accuracy',\n",
        "    'precision': 'precision_weighted',\n",
        "    'recall': 'recall_weighted',\n",
        "    'f1': 'f1_weighted'\n",
        "}\n",
        "\n",
        "# Create the hyperparameter grid for Logistic Regression\n",
        "param_grid_lr = {\n",
        "    'C': [0.01, 0.1, 1, 10, 100],\n",
        "    'solver': ['liblinear', 'lbfgs'],\n",
        "    'penalty': ['l2']\n",
        "}\n",
        "\n",
        "# Create the hyperparameter grid for K-Nearest Neighbors (KNN)\n",
        "param_grid_knn = {\n",
        "    'n_neighbors': [3, 5, 7, 9],\n",
        "    'weights': ['uniform', 'distance'],\n",
        "    'p': [1, 2]  # 1 for Manhattan distance, 2 for Euclidean\n",
        "}\n",
        "\n",
        "# Create the hyperparameter grid for Support Vector Machine (SVM)\n",
        "param_grid_svm = {\n",
        "    'C': [0.01, 0.1, 1, 10],\n",
        "    'kernel': ['linear', 'rbf', 'poly'],\n",
        "    'gamma': ['scale', 'auto'],\n",
        "}\n",
        "\n",
        "# Instantiate the models\n",
        "logreg = LogisticRegression()\n",
        "knn = KNeighborsClassifier()\n",
        "svm = SVC()\n",
        "\n",
        "# Instantiate the GridSearchCV objects for each model\n",
        "grid_search_lr = GridSearchCV(estimator=logreg, param_grid=param_grid_lr, cv=5, n_jobs=-1,\n",
        "                              verbose=2, scoring=scoring, refit='accuracy')\n",
        "\n",
        "grid_search_knn = GridSearchCV(estimator=knn, param_grid=param_grid_knn, cv=5, n_jobs=-1,\n",
        "                               verbose=2, scoring=scoring, refit='accuracy')\n",
        "\n",
        "grid_search_svm = GridSearchCV(estimator=svm, param_grid=param_grid_svm, cv=5, n_jobs=-1,\n",
        "                               verbose=2, scoring=scoring, refit='accuracy')\n",
        "\n",
        "#ทำการกำหนด param_grid เพื่อเก็บ hyperparamiter หลายๆแบบ แล้วใช้ GridSearchCV ค้นหาว่า พารามิเตอร์ตัวไหนดีสุด"
      ]
    },
    {
      "cell_type": "markdown",
      "id": "tUj9PL8Odwii",
      "metadata": {
        "id": "tUj9PL8Odwii"
      },
      "source": [
        "## Fit all model"
      ]
    },
    {
      "cell_type": "code",
      "execution_count": 11,
      "id": "0eWqfAiZdvnM",
      "metadata": {
        "colab": {
          "base_uri": "https://localhost:8080/"
        },
        "id": "0eWqfAiZdvnM",
        "outputId": "332fad92-b811-4c57-f798-0882e4ff05f6"
      },
      "outputs": [
        {
          "name": "stdout",
          "output_type": "stream",
          "text": [
            "Fitting 5 folds for each of 10 candidates, totalling 50 fits\n",
            "Fitting 5 folds for each of 16 candidates, totalling 80 fits\n",
            "Fitting 5 folds for each of 24 candidates, totalling 120 fits\n"
          ]
        }
      ],
      "source": [
        "# Fit the GridSearchCV objects\n",
        "grid_search_lr.fit(X_train_balanced, y_train_balanced)\n",
        "grid_search_knn.fit(X_train_balanced, y_train_balanced)\n",
        "grid_search_svm.fit(X_train_balanced, y_train_balanced)\n",
        "\n",
        "# Predict on the test set\n",
        "y_pred_lr = grid_search_lr.predict(X_test)\n",
        "y_pred_knn = grid_search_knn.predict(X_test)\n",
        "y_pred_svm = grid_search_svm.predict(X_test)\n",
        "\n",
        "#ทำการฝึกโมเดลแล้วโดยใช้ พารามิดตอร์ที่ดีสุดและทำการทำนาย"
      ]
    },
    {
      "cell_type": "markdown",
      "id": "FvJoE7jFdL6l",
      "metadata": {
        "id": "FvJoE7jFdL6l"
      },
      "source": [
        "## Display result best_param and classification_report"
      ]
    },
    {
      "cell_type": "code",
      "execution_count": 12,
      "id": "WRJMU0zxdKR2",
      "metadata": {
        "colab": {
          "base_uri": "https://localhost:8080/"
        },
        "id": "WRJMU0zxdKR2",
        "outputId": "903d9749-32a6-43fc-f7fd-3552f37e706e"
      },
      "outputs": [
        {
          "name": "stdout",
          "output_type": "stream",
          "text": [
            "_____________________________________________________________ \n",
            "\n",
            "Logistic Regression Best Parameters: {'C': 100, 'penalty': 'l2', 'solver': 'liblinear'}\n",
            "Logistic Regression Classification Report:\n",
            "               precision    recall  f1-score   support\n",
            "\n",
            "           0       0.75      0.66      0.70        71\n",
            "           1       0.90      0.74      0.81       142\n",
            "           2       0.69      0.90      0.78       105\n",
            "\n",
            "    accuracy                           0.78       318\n",
            "   macro avg       0.78      0.77      0.76       318\n",
            "weighted avg       0.79      0.78      0.78       318\n",
            "\n",
            "_____________________________________________________________ \n",
            "\n",
            "KNN Best Parameters: {'n_neighbors': 9, 'p': 1, 'weights': 'distance'}\n",
            "KNN Classification Report:\n",
            "               precision    recall  f1-score   support\n",
            "\n",
            "           0       0.97      1.00      0.99        71\n",
            "           1       1.00      1.00      1.00       142\n",
            "           2       1.00      0.98      0.99       105\n",
            "\n",
            "    accuracy                           0.99       318\n",
            "   macro avg       0.99      0.99      0.99       318\n",
            "weighted avg       0.99      0.99      0.99       318\n",
            "\n",
            "_____________________________________________________________ \n",
            "\n",
            "SVM Best Parameters: {'C': 10, 'gamma': 'auto', 'kernel': 'rbf'}\n",
            "SVM Classification Report:\n",
            "               precision    recall  f1-score   support\n",
            "\n",
            "           0       0.95      0.99      0.97        71\n",
            "           1       1.00      1.00      1.00       142\n",
            "           2       0.99      0.96      0.98       105\n",
            "\n",
            "    accuracy                           0.98       318\n",
            "   macro avg       0.98      0.98      0.98       318\n",
            "weighted avg       0.98      0.98      0.98       318\n",
            "\n",
            "_____________________________________________________________ \n",
            "\n"
          ]
        }
      ],
      "source": [
        "print(\"_____________________________________________________________\", '\\n')\n",
        "# Get and display the best parameters and classification report for each model\n",
        "print('Logistic Regression Best Parameters:', grid_search_lr.best_params_)\n",
        "print('Logistic Regression Classification Report:\\n', classification_report(y_test, y_pred_lr))\n",
        "print(\"_____________________________________________________________\", '\\n')\n",
        "print('KNN Best Parameters:', grid_search_knn.best_params_)\n",
        "print('KNN Classification Report:\\n', classification_report(y_test, y_pred_knn))\n",
        "print(\"_____________________________________________________________\", '\\n')\n",
        "print('SVM Best Parameters:', grid_search_svm.best_params_)\n",
        "print('SVM Classification Report:\\n', classification_report(y_test, y_pred_svm))\n",
        "print(\"_____________________________________________________________\", '\\n')\n",
        "\n",
        "#แสดงผล hyperparamiter ที่ดีสุดและแสดงค่าการประเมินโมเดล precision / recall / f1-score / support และ accuracy score"
      ]
    },
    {
      "cell_type": "markdown",
      "id": "8811d5ce62c122c",
      "metadata": {
        "id": "8811d5ce62c122c"
      },
      "source": [
        "# Save models (.pkl)"
      ]
    },
    {
      "cell_type": "code",
      "execution_count": 13,
      "id": "edd3ccdc1757c4f0",
      "metadata": {
        "ExecuteTime": {
          "end_time": "2024-09-13T15:44:40.053359Z",
          "start_time": "2024-09-13T15:44:40.030927Z"
        },
        "id": "edd3ccdc1757c4f0",
        "outputId": "535879f6-cd00-42c8-eb79-1d292d9b66e0"
      },
      "outputs": [
        {
          "name": "stdout",
          "output_type": "stream",
          "text": [
            "Saved best logistic_regression model to 'models/best_logistic_regression.pkl'\n",
            "Saved best knn model to 'models/best_knn.pkl'\n",
            "Saved best svm model to 'models/best_svm.pkl'\n"
          ]
        }
      ],
      "source": [
        "# Import the necessary library for saving models\n",
        "import joblib\n",
        "\n",
        "# Dictionary to map the models to their respective GridSearchCV objects\n",
        "models = {\n",
        "    'logistic_regression': grid_search_lr,\n",
        "    'knn': grid_search_knn,\n",
        "    'svm': grid_search_svm\n",
        "}\n",
        "\n",
        "# Loop through the models and save each best model\n",
        "for model_name, grid_search in models.items():\n",
        "    best_model = grid_search.best_estimator_\n",
        "    joblib.dump(best_model, f'models/best_{model_name}.pkl')\n",
        "    joblib.dump(mapping, 'models/mapping.pkl')\n",
        "    joblib.dump(X.columns, 'models/columns.pkl')\n",
        "    print(f\"Saved best {model_name} model to 'models/best_{model_name}.pkl'\")\n"
      ]
    },
    {
      "cell_type": "markdown",
      "id": "9b15390bd22a0267",
      "metadata": {
        "id": "9b15390bd22a0267"
      },
      "source": [
        "# Check mapping variable"
      ]
    },
    {
      "cell_type": "code",
      "execution_count": 17,
      "id": "130330ae",
      "metadata": {
        "ExecuteTime": {
          "end_time": "2024-09-13T15:44:50.700600Z",
          "start_time": "2024-09-13T15:44:50.685444Z"
        },
        "id": "130330ae",
        "outputId": "2785dc90-34bc-4707-d4da-d253d36742e8"
      },
      "outputs": [
        {
          "name": "stdout",
          "output_type": "stream",
          "text": [
            "{'Grade': {'high': np.int64(0), 'low': np.int64(1), 'medium': np.int64(2)}}\n"
          ]
        }
      ],
      "source": [
        "mapping_jl = joblib.load('models/mapping.pkl')\n",
        "\n",
        "# พิมพ์ค่าของ mapping\n",
        "print(mapping_jl)"
      ]
    },
    {
      "cell_type": "markdown",
      "id": "aab4c5a02029f4fc",
      "metadata": {
        "id": "aab4c5a02029f4fc"
      },
      "source": [
        "# Web deployment\n",
        "\n",
        "#### link : https://predictmilkquality.streamlit.app/"
      ]
    }
  ],
  "metadata": {
    "colab": {
      "provenance": []
    },
    "kernelspec": {
      "display_name": "Python 3",
      "language": "python",
      "name": "python3"
    },
    "language_info": {
      "codemirror_mode": {
        "name": "ipython",
        "version": 3
      },
      "file_extension": ".py",
      "mimetype": "text/x-python",
      "name": "python",
      "nbconvert_exporter": "python",
      "pygments_lexer": "ipython3",
      "version": "3.11.4"
    }
  },
  "nbformat": 4,
  "nbformat_minor": 5
}
